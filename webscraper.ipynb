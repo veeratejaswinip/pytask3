{
 "cells": [
  {
   "cell_type": "code",
   "execution_count": 1,
   "id": "11ced588-1c66-495c-a177-33eeb563d43f",
   "metadata": {},
   "outputs": [
    {
     "name": "stdout",
     "output_type": "stream",
     "text": [
      "Requirement already satisfied: requests in c:\\users\\tejaswini\\anaconda3\\desktop\\lib\\site-packages (2.32.2)\n",
      "Requirement already satisfied: beautifulsoup4 in c:\\users\\tejaswini\\anaconda3\\desktop\\lib\\site-packages (4.12.3)\n",
      "Requirement already satisfied: charset-normalizer<4,>=2 in c:\\users\\tejaswini\\anaconda3\\desktop\\lib\\site-packages (from requests) (2.0.4)\n",
      "Requirement already satisfied: idna<4,>=2.5 in c:\\users\\tejaswini\\anaconda3\\desktop\\lib\\site-packages (from requests) (3.7)\n",
      "Requirement already satisfied: urllib3<3,>=1.21.1 in c:\\users\\tejaswini\\anaconda3\\desktop\\lib\\site-packages (from requests) (2.2.2)\n",
      "Requirement already satisfied: certifi>=2017.4.17 in c:\\users\\tejaswini\\anaconda3\\desktop\\lib\\site-packages (from requests) (2024.6.2)\n",
      "Requirement already satisfied: soupsieve>1.2 in c:\\users\\tejaswini\\anaconda3\\desktop\\lib\\site-packages (from beautifulsoup4) (2.5)\n",
      "Note: you may need to restart the kernel to use updated packages.\n"
     ]
    }
   ],
   "source": [
    "pip install requests beautifulsoup4"
   ]
  },
  {
   "cell_type": "code",
   "execution_count": 2,
   "id": "414c0bf4-cc0d-4e59-afe8-68954e1bf6fe",
   "metadata": {},
   "outputs": [
    {
     "name": "stdout",
     "output_type": "stream",
     "text": [
      "Headlines saved to 'headlines.txt'\n"
     ]
    }
   ],
   "source": [
    "import requests\n",
    "from bs4 import BeautifulSoup\n",
    "url = 'https://www.bbc.com/news'\n",
    "response = requests.get(url)\n",
    "if response.status_code == 200:\n",
    "    soup = BeautifulSoup(response.text, 'html.parser')\n",
    "    headlines = []\n",
    "    for h2 in soup.find_all('h2'):\n",
    "        text = h2.get_text(strip=True)\n",
    "        if text:\n",
    "            headlines.append(text)\n",
    "    page_title = soup.title.string.strip() if soup.title else None\n",
    "    if page_title:\n",
    "        headlines.insert(0, f\"Page Title: {page_title}\")\n",
    "    with open('headlines.txt', 'w', encoding='utf-8') as f:\n",
    "        for line in headlines:\n",
    "            f.write(line + '\\n')\n",
    "    print(\"Headlines saved to 'headlines.txt'\")\n",
    "else:\n",
    "    print(f\"Failed to retrieve the page. Status code: {response.status_code}\")\n"
   ]
  },
  {
   "cell_type": "code",
   "execution_count": null,
   "id": "bcf7508d-f461-4d2e-a0fc-e2c8edceb114",
   "metadata": {},
   "outputs": [],
   "source": []
  }
 ],
 "metadata": {
  "kernelspec": {
   "display_name": "Python 3 (ipykernel)",
   "language": "python",
   "name": "python3"
  },
  "language_info": {
   "codemirror_mode": {
    "name": "ipython",
    "version": 3
   },
   "file_extension": ".py",
   "mimetype": "text/x-python",
   "name": "python",
   "nbconvert_exporter": "python",
   "pygments_lexer": "ipython3",
   "version": "3.12.4"
  }
 },
 "nbformat": 4,
 "nbformat_minor": 5
}
